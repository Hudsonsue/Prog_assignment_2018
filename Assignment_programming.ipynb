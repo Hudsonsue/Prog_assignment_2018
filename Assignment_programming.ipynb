{
 "cells": [
  {
   "cell_type": "markdown",
   "metadata": {},
   "source": [
    "# numpy.random - a study of the package\n",
    "### Student ID G00219132\n",
    "\n",
    "This notebook is a submission for assignment 2018 Module **Programming for Data Analysis**The module is delivered as part of the [Higher Diploma in Data Analytics](https://www.gmit.ie/computing/higher-diploma-science-computing-data-analytics-ict-skills) in [Galway Mayo IT](https://www.gmit.ie/), Galway.\n"
   ]
  },
  {
   "cell_type": "markdown",
   "metadata": {},
   "source": [
    "## problem statement outline\n",
    "The assignment requires the creation of a jupyter notebook explaining the use of the numpy random package in Python. There are four distinct tasks, a below. \n",
    "* Explain structure of package [Randon Sampling numpy.random](https://docs.scipy.org/doc/numpy/reference/routines.random.html)[1]\n",
    "* Explain use of \"Simple random data\" and \"Permutations\" functions.\n",
    "* Explain the use and purpose of at least five \"distributions\" functions.\n",
    "* Explain the use of seeds in generating pseudorandom numbers. "
   ]
  },
  {
   "cell_type": "markdown",
   "metadata": {},
   "source": [
    "## notebook structure\n",
    "The notebook is split up into the following sections\n",
    "* Section One - General setup and importatation of necessary python packages\n",
    "* Section Two - Explain structure of package\n",
    "* Section Three - Explain use of \"Simple random data\" and \"Permutations\" functions.\n",
    "* Section Four - Explain the use and purpose of at least five \"distributions\" functions. For this section I chose:\n",
    "    * Binomial Distribution\n",
    "    * Poisson Distribution\n",
    "    * Exponential Distribution\n",
    "    * Logistic Distribution\n",
    "    * Normal Distribution\n",
    "\n",
    "* Section Five - Explain the use of seeds in generating pseudorandom numbers. \n",
    "* Section Six - references and conclusion"
   ]
  },
  {
   "cell_type": "markdown",
   "metadata": {},
   "source": [
    "## Section One"
   ]
  },
  {
   "cell_type": "markdown",
   "metadata": {},
   "source": [
    "Programming language - Python 3.7.0.\n",
    "For some information about Python and it's uses see the wikipedia page, [Python](https://en.wikipedia.org/wiki/Python_(programming_language))\n",
    "python packages imported\n",
    "* Mathplotlib.pyplot.py [Mathplotlib.org](https://matplotlib.org/)\n",
    "* NumPy [NumPy](http://www.numpy.org/)"
   ]
  },
  {
   "cell_type": "code",
   "execution_count": 1,
   "metadata": {},
   "outputs": [],
   "source": [
    "%matplotlib inline \n",
    "#ensure correct display of plots"
   ]
  },
  {
   "cell_type": "code",
   "execution_count": 2,
   "metadata": {},
   "outputs": [],
   "source": [
    "import matplotlib.pyplot as plt  \n",
    "# import package for Plots"
   ]
  },
  {
   "cell_type": "code",
   "execution_count": 3,
   "metadata": {},
   "outputs": [],
   "source": [
    "import numpy as np #import the numPy package~"
   ]
  },
  {
   "cell_type": "markdown",
   "metadata": {},
   "source": [
    "## Section two - Structure of Package"
   ]
  },
  {
   "cell_type": "markdown",
   "metadata": {},
   "source": [
    "NumPy is a scientific/maths library for Python and NumPy.random is a NumPy package that generates random numbers (strictly speaking pseudo random number as they are generated from an initial seed). The generated numbers are returned as arrays and these can be single or multidimensional. \n",
    "Data can be generated as simple random data or as data samples for various probability sistributions."
   ]
  },
  {
   "cell_type": "markdown",
   "metadata": {},
   "source": [
    "## Section three - simple random data and permutations functions"
   ]
  },
  {
   "cell_type": "markdown",
   "metadata": {},
   "source": [
    "### [Random sampling - numpy.random](https://docs.scipy.org/doc/numpy-1.15.1/reference/routines.random.html)"
   ]
  },
  {
   "cell_type": "markdown",
   "metadata": {},
   "source": [
    "below is a quick run through of each of the simple randon data functions referenced in the [SciPy documentation ](https://docs.scipy.org/doc/numpy-1.15.1/reference/routines.random.html#simple-random-data)"
   ]
  },
  {
   "cell_type": "markdown",
   "metadata": {},
   "source": [
    "[np.random.rand](https://docs.scipy.org/doc/numpy-1.15.1/reference/generated/numpy.random.rand.html#numpy.random.rand) - this will generate random **uniform** values in the range 0 to 1 for a defined shape (array)\n",
    "\n",
    "The uniformity of the generated values can be seen in the histogram below."
   ]
  },
  {
   "cell_type": "code",
   "execution_count": 4,
   "metadata": {},
   "outputs": [
    {
     "name": "stdout",
     "output_type": "stream",
     "text": [
      "[0.63844439 0.50850624 0.12918383 ... 0.51871032 0.0574814  0.99065823]\n"
     ]
    },
    {
     "data": {
      "image/png": "[encoded data removed]",
      "text/plain": [
       "<Figure size 432x288 with 1 Axes>"
      ]
     },
     "metadata": {
      "needs_background": "light"
     },
     "output_type": "display_data"
    }
   ],
   "source": [
    "x = np.random.rand (10000)\n",
    "print (x)\n",
    "plt.hist(x)\n",
    "plt.show()"
   ]
  },
  {
   "cell_type": "markdown",
   "metadata": {},
   "source": [
    "[np.random.randn](https://docs.scipy.org/doc/numpy-1.15.1/reference/generated/numpy.random.randn.html#numpy.random.randn) this will generate random normalvalues in a given shape. The normal distrubtion of the generated values can be seen in the histogram."
   ]
  },
  {
   "cell_type": "code",
   "execution_count": 5,
   "metadata": {},
   "outputs": [
    {
     "name": "stdout",
     "output_type": "stream",
     "text": [
      "[-2.57648125  0.34115972  0.12291861 ... -0.11349049  1.2088446\n",
      "  0.53327691]\n"
     ]
    },
    {
     "data": {
      "image/png": "[encoded data removed]",
      "text/plain": [
       "<Figure size 432x288 with 1 Axes>"
      ]
     },
     "metadata": {
      "needs_background": "light"
     },
     "output_type": "display_data"
    }
   ],
   "source": [
    "x =np.random.randn(10000)\n",
    "print(x)\n",
    "plt.hist (x)\n",
    "plt.show()"
   ]
  },
  {
   "cell_type": "markdown",
   "metadata": {},
   "source": [
    "[np.randon.randint](https://docs.scipy.org/doc/numpy-1.13.0/reference/generated/numpy.random.randint.html#numpy.random.randint)\n",
    "Return random integers from low (inclusive) to high (exclusive) for a gven sample size. \n",
    "in example below will return an array of 2000 integars between 0 and 100, excluding 2000 itself\n",
    "\n"
   ]
  },
  {
   "cell_type": "code",
   "execution_count": 6,
   "metadata": {},
   "outputs": [
    {
     "name": "stdout",
     "output_type": "stream",
     "text": [
      "[16 39 21 ... 53 40 95]\n"
     ]
    },
    {
     "data": {
      "image/png": "[encoded data removed]",
      "text/plain": [
       "<Figure size 432x288 with 1 Axes>"
      ]
     },
     "metadata": {
      "needs_background": "light"
     },
     "output_type": "display_data"
    }
   ],
   "source": [
    "x =np.random.randint(0,100, size=2000)\n",
    "print(x)\n",
    "plt.hist(x)\n",
    "plt.show()"
   ]
  },
  {
   "cell_type": "code",
   "execution_count": 7,
   "metadata": {},
   "outputs": [
    {
     "data": {
      "image/png": "[encoded data removed]",
      "text/plain": [
       "<Figure size 432x288 with 1 Axes>"
      ]
     },
     "metadata": {
      "needs_background": "light"
     },
     "output_type": "display_data"
    }
   ],
   "source": [
    "plt.hist(x)\n",
    "plt.show()"
   ]
  },
  {
   "cell_type": "markdown",
   "metadata": {},
   "source": [
    "[np.random.random_sample()](https://docs.scipy.org/doc/numpy-1.15.1/reference/generated/numpy.random.random_sample.html#numpy.random.random_sample)- Return random floats in the half-open interval [0.0, 1.0)."
   ]
  },
  {
   "cell_type": "code",
   "execution_count": 8,
   "metadata": {},
   "outputs": [
    {
     "name": "stdout",
     "output_type": "stream",
     "text": [
      "[0.47653935 0.6119609  0.7819213  0.76030382 0.65998465]\n"
     ]
    },
    {
     "data": {
      "text/plain": [
       "<function matplotlib.pyplot.show(*args, **kw)>"
      ]
     },
     "execution_count": 8,
     "metadata": {},
     "output_type": "execute_result"
    },
    {
     "data": {
      "image/png": "[encoded data removed]",
      "text/plain": [
       "<Figure size 432x288 with 1 Axes>"
      ]
     },
     "metadata": {
      "needs_background": "light"
     },
     "output_type": "display_data"
    }
   ],
   "source": [
    "x = np.random.random_sample((5,))\n",
    "print(x)\n",
    "plt.hist (x)\n",
    "plt.show"
   ]
  },
  {
   "cell_type": "code",
   "execution_count": 9,
   "metadata": {},
   "outputs": [],
   "source": [
    "x = np.random.ranf(size=10)"
   ]
  },
  {
   "cell_type": "code",
   "execution_count": 10,
   "metadata": {},
   "outputs": [
    {
     "data": {
      "text/plain": [
       "array([0.25458098, 0.80221353, 0.27746099, 0.91134998, 0.5674368 ,\n",
       "       0.87371583, 0.94572353, 0.24979119, 0.84258331, 0.81313614])"
      ]
     },
     "execution_count": 10,
     "metadata": {},
     "output_type": "execute_result"
    }
   ],
   "source": [
    "x"
   ]
  },
  {
   "cell_type": "code",
   "execution_count": 11,
   "metadata": {},
   "outputs": [],
   "source": [
    "x = np.random.choice(6,4)"
   ]
  },
  {
   "cell_type": "code",
   "execution_count": 12,
   "metadata": {},
   "outputs": [
    {
     "data": {
      "text/plain": [
       "array([4, 4, 4, 4])"
      ]
     },
     "execution_count": 12,
     "metadata": {},
     "output_type": "execute_result"
    }
   ],
   "source": [
    "x"
   ]
  },
  {
   "cell_type": "code",
   "execution_count": 13,
   "metadata": {},
   "outputs": [],
   "source": [
    "x = np.random.bytes(16)"
   ]
  },
  {
   "cell_type": "code",
   "execution_count": 14,
   "metadata": {},
   "outputs": [
    {
     "name": "stdout",
     "output_type": "stream",
     "text": [
      "b'\\xc2;\\x7f\\xea\\x19\\xbf\\xd6\\x15k\\x86\\x0bQ\\xe1\\xdb\\xedm'\n"
     ]
    }
   ],
   "source": [
    "print(x)"
   ]
  },
  {
   "cell_type": "markdown",
   "metadata": {},
   "source": [
    "[np.random.shuffle(x)](https://docs.scipy.org/doc/numpy-1.15.1/reference/generated/numpy.random.shuffle.html#numpy.random.shuffle)-shuffles the contents of a sequence. This shuffle is along the first axis of multi dimensional arrays"
   ]
  },
  {
   "cell_type": "code",
   "execution_count": null,
   "metadata": {},
   "outputs": [],
   "source": []
  },
  {
   "cell_type": "code",
   "execution_count": 15,
   "metadata": {},
   "outputs": [
    {
     "data": {
      "text/plain": [
       "array([[[ 0,  1,  2,  3],\n",
       "        [ 4,  5,  6,  7],\n",
       "        [ 8,  9, 10, 11],\n",
       "        [12, 13, 14, 15]],\n",
       "\n",
       "       [[16, 17, 18, 19],\n",
       "        [20, 21, 22, 23],\n",
       "        [24, 25, 26, 27],\n",
       "        [28, 29, 30, 31]],\n",
       "\n",
       "       [[32, 33, 34, 35],\n",
       "        [36, 37, 38, 39],\n",
       "        [40, 41, 42, 43],\n",
       "        [44, 45, 46, 47]],\n",
       "\n",
       "       [[48, 49, 50, 51],\n",
       "        [52, 53, 54, 55],\n",
       "        [56, 57, 58, 59],\n",
       "        [60, 61, 62, 63]]])"
      ]
     },
     "execution_count": 15,
     "metadata": {},
     "output_type": "execute_result"
    }
   ],
   "source": [
    "x = np.arange(64).reshape((4, 4, 4))\n",
    "x"
   ]
  },
  {
   "cell_type": "code",
   "execution_count": 16,
   "metadata": {},
   "outputs": [
    {
     "data": {
      "text/plain": [
       "array([[[ 0,  1,  2,  3],\n",
       "        [ 4,  5,  6,  7],\n",
       "        [ 8,  9, 10, 11],\n",
       "        [12, 13, 14, 15]],\n",
       "\n",
       "       [[48, 49, 50, 51],\n",
       "        [52, 53, 54, 55],\n",
       "        [56, 57, 58, 59],\n",
       "        [60, 61, 62, 63]],\n",
       "\n",
       "       [[16, 17, 18, 19],\n",
       "        [20, 21, 22, 23],\n",
       "        [24, 25, 26, 27],\n",
       "        [28, 29, 30, 31]],\n",
       "\n",
       "       [[32, 33, 34, 35],\n",
       "        [36, 37, 38, 39],\n",
       "        [40, 41, 42, 43],\n",
       "        [44, 45, 46, 47]]])"
      ]
     },
     "execution_count": 16,
     "metadata": {},
     "output_type": "execute_result"
    }
   ],
   "source": [
    "np.random.shuffle(x)\n",
    "x"
   ]
  },
  {
   "cell_type": "code",
   "execution_count": 17,
   "metadata": {},
   "outputs": [
    {
     "data": {
      "text/plain": [
       "array([[[48, 49, 50, 51],\n",
       "        [52, 53, 54, 55],\n",
       "        [56, 57, 58, 59],\n",
       "        [60, 61, 62, 63]],\n",
       "\n",
       "       [[32, 33, 34, 35],\n",
       "        [36, 37, 38, 39],\n",
       "        [40, 41, 42, 43],\n",
       "        [44, 45, 46, 47]],\n",
       "\n",
       "       [[16, 17, 18, 19],\n",
       "        [20, 21, 22, 23],\n",
       "        [24, 25, 26, 27],\n",
       "        [28, 29, 30, 31]],\n",
       "\n",
       "       [[ 0,  1,  2,  3],\n",
       "        [ 4,  5,  6,  7],\n",
       "        [ 8,  9, 10, 11],\n",
       "        [12, 13, 14, 15]]])"
      ]
     },
     "execution_count": 17,
     "metadata": {},
     "output_type": "execute_result"
    }
   ],
   "source": [
    "np.random.shuffle(x)\n",
    "x"
   ]
  },
  {
   "cell_type": "code",
   "execution_count": 18,
   "metadata": {},
   "outputs": [
    {
     "data": {
      "text/plain": [
       "array([3, 5, 2, 0, 8, 4, 6, 9, 7, 1])"
      ]
     },
     "execution_count": 18,
     "metadata": {},
     "output_type": "execute_result"
    }
   ],
   "source": [
    "np.random.permutation(10)"
   ]
  },
  {
   "cell_type": "markdown",
   "metadata": {},
   "source": [
    "[np.random.permutation](https://docs.scipy.org/doc/numpy-1.15.1/reference/generated/numpy.random.shuffle.html#numpy.random.shuffle)-Randomly permute a sequence, or return a permuted range."
   ]
  },
  {
   "cell_type": "code",
   "execution_count": 19,
   "metadata": {},
   "outputs": [
    {
     "data": {
      "text/plain": [
       "array([[0, 1, 2],\n",
       "       [3, 4, 5],\n",
       "       [6, 7, 8]])"
      ]
     },
     "execution_count": 19,
     "metadata": {},
     "output_type": "execute_result"
    }
   ],
   "source": [
    "x = np.arange(9).reshape((3, 3))\n",
    "x"
   ]
  },
  {
   "cell_type": "code",
   "execution_count": 20,
   "metadata": {},
   "outputs": [
    {
     "data": {
      "text/plain": [
       "array([[6, 7, 8],\n",
       "       [3, 4, 5],\n",
       "       [0, 1, 2]])"
      ]
     },
     "execution_count": 20,
     "metadata": {},
     "output_type": "execute_result"
    }
   ],
   "source": [
    "np.random.permutation(x)"
   ]
  },
  {
   "cell_type": "code",
   "execution_count": 21,
   "metadata": {},
   "outputs": [
    {
     "data": {
      "text/plain": [
       "array([[3, 4, 5],\n",
       "       [0, 1, 2],\n",
       "       [6, 7, 8]])"
      ]
     },
     "execution_count": 21,
     "metadata": {},
     "output_type": "execute_result"
    }
   ],
   "source": [
    "np.random.permutation(x)"
   ]
  },
  {
   "cell_type": "markdown",
   "metadata": {},
   "source": [
    "## Section four - Distributions functions\n",
    "\n",
    "Explain the use and purpose of at least five distributions. "
   ]
  },
  {
   "cell_type": "markdown",
   "metadata": {},
   "source": [
    "### [Binomial distribution](https://docs.scipy.org/doc/numpy-1.15.1/reference/generated/numpy.random.binomial.html#numpy.random.binomial)"
   ]
  },
  {
   "cell_type": "markdown",
   "metadata": {},
   "source": [
    "Binomial distribution is an expansion of the [Bernoulli trial](https://en.wikipedia.org/wiki/Bernoulli_trial) and is used to predict outcomes in instances where there are a **finite** number of **independant** trials (n) with one of **two possible outcomes** (success or failure) where the **probality of success (p) is the same for each trial**. \n",
    "\n",
    "The Binomial Distribution is used when looking at large populations for the presence/absence of a characteristic where there can only be one of two outcomes. For example probability of defective parts in production ines,  probability of having a particular genetic combination etc. "
   ]
  },
  {
   "cell_type": "code",
   "execution_count": 22,
   "metadata": {},
   "outputs": [
    {
     "name": "stdout",
     "output_type": "stream",
     "text": [
      "[258 249 257 ... 259 236 246]\n"
     ]
    },
    {
     "data": {
      "image/png": "[encoded data removed]",
      "text/plain": [
       "<Figure size 432x288 with 1 Axes>"
      ]
     },
     "metadata": {
      "needs_background": "light"
     },
     "output_type": "display_data"
    }
   ],
   "source": [
    "# np.random.binomial will return numbers in the binomial probability distribution based \n",
    "# on a nmber of events(n), the probability of a successful outcome (p) and the number of repetitions of the event\n",
    "\n",
    "n, p = 500, 0.5  # events, probability \n",
    "x = np.random.binomial(n, p, 10000) # number of repetitions\n",
    "print(x)\n",
    "\n",
    "plt.hist(x,bins =300)\n",
    "plt.show()\n"
   ]
  },
  {
   "cell_type": "markdown",
   "metadata": {},
   "source": [
    "### [Poisson Distribution](https://docs.scipy.org/doc/numpy/reference/generated/numpy.random.poisson.html#numpy.random.poisson) "
   ]
  },
  {
   "cell_type": "markdown",
   "metadata": {},
   "source": [
    "The Poisson Distrubtion measures the probability of events happening over a specified interval based on known occurrances (average rate) of the events. An event occurring is unrelated to the liklihood of a further event happening within the interval.  \n",
    "\n",
    "It could be used to predict sales likely peak sales patterns, A & E patient arrivals, likely hits on websites. A day to day use that most of us would be familiar with would relate to hts on web pages, e.g. page requests per second to a website. Modeling this with a Poisson distribution could be very helpful for estimating peak load (amd thus planning serverd around this) given average load."
   ]
  },
  {
   "cell_type": "code",
   "execution_count": 23,
   "metadata": {},
   "outputs": [
    {
     "name": "stdout",
     "output_type": "stream",
     "text": [
      "[1 0 0 ... 1 2 0]\n"
     ]
    },
    {
     "data": {
      "text/plain": [
       "(array([6164.,    0., 2960.,    0.,    0.,  749.,    0.,  117.,    0.,\n",
       "          10.]),\n",
       " array([0. , 0.4, 0.8, 1.2, 1.6, 2. , 2.4, 2.8, 3.2, 3.6, 4. ]),\n",
       " <a list of 10 Patch objects>)"
      ]
     },
     "execution_count": 23,
     "metadata": {},
     "output_type": "execute_result"
    },
    {
     "data": {
      "image/png": "[encoded data removed]",
      "text/plain": [
       "<Figure size 432x288 with 1 Axes>"
      ]
     },
     "metadata": {
      "needs_background": "light"
     },
     "output_type": "display_data"
    }
   ],
   "source": [
    "# below creates an array of 10000 elements each taken from a poisson probability distribution\n",
    "# where the function has a mean value of 0.5 \n",
    "\n",
    "x = np.random.poisson(0.5, 10000)\n",
    "print(x)\n",
    "plt.hist(x)"
   ]
  },
  {
   "cell_type": "markdown",
   "metadata": {},
   "source": [
    "### [exponential distribution](https://docs.scipy.org/doc/numpy-1.15.1/reference/generated/numpy.random.exponential.html#numpy.random.exponential)"
   ]
  },
  {
   "cell_type": "markdown",
   "metadata": {},
   "source": [
    "Exponential distribution is the probability distribution that describes the time between events in a Poisson process. When looking at evemts occurring ranomly in time the poisson distribution gives probabilities for the number of events wheras the exponential distribution gives the probabilities for the times between the events. \n",
    "\n",
    "Some examples of exponential distributions would be the half life of atoms in radioactive decay or the time between calls to a call centre."
   ]
  },
  {
   "cell_type": "code",
   "execution_count": 24,
   "metadata": {},
   "outputs": [
    {
     "name": "stdout",
     "output_type": "stream",
     "text": [
      "[0.92283309 1.41372768 2.25438095 ... 0.82113687 0.45498972 0.63705549]\n"
     ]
    },
    {
     "data": {
      "image/png": "[encoded data removed]",
      "text/plain": [
       "<Figure size 432x288 with 1 Axes>"
      ]
     },
     "metadata": {
      "needs_background": "light"
     },
     "output_type": "display_data"
    }
   ],
   "source": [
    "# np.random.exponential will return valies in an exponential distribution\n",
    "# scale is the inverse of lambda, number of evenys per unit time\n",
    "\n",
    "x = np.random.exponential(scale=1, size=10000)\n",
    "print (x)\n",
    "plt.hist(x)\n",
    "plt.show()"
   ]
  },
  {
   "cell_type": "markdown",
   "metadata": {},
   "source": [
    "### [normal distrubution](https://docs.scipy.org/doc/numpy-1.15.1/reference/generated/numpy.random.normal.html#numpy.random.normal)"
   ]
  },
  {
   "cell_type": "markdown",
   "metadata": {},
   "source": [
    "The mean, median, and mode of a normal distribution are equal. The area under the normal curve is equal to 1.0. Normal distributions are denser in the center and less dense in the tails. Normal distributions are defined by two parameters, the mean (μ) and the standard deviation (σ)."
   ]
  },
  {
   "cell_type": "code",
   "execution_count": 25,
   "metadata": {},
   "outputs": [],
   "source": [
    "mu, sigma = 50, 5 # mean and standard deviation\n",
    "x = np.random.normal(mu, sigma, 5000)"
   ]
  },
  {
   "cell_type": "code",
   "execution_count": 26,
   "metadata": {},
   "outputs": [
    {
     "data": {
      "image/png": "[encoded data removed]",
      "text/plain": [
       "<Figure size 432x288 with 1 Axes>"
      ]
     },
     "metadata": {
      "needs_background": "light"
     },
     "output_type": "display_data"
    }
   ],
   "source": [
    "plt.hist(x)\n",
    "plt.show()"
   ]
  },
  {
   "cell_type": "markdown",
   "metadata": {},
   "source": [
    "### [Standard t distribution](https://docs.scipy.org/doc/numpy-1.15.1/reference/generated/numpy.random.standard_t.html#numpy.random.standard_t)"
   ]
  },
  {
   "attachments": {},
   "cell_type": "markdown",
   "metadata": {},
   "source": [
    "The standart t distribution is related to the normal(Gaussian) distribution. It is a probability distribution which was developed by William Gosset in 1908 while he worked for Guinness Breweries. He published his work as 'student', hence the name, while researching I came across a really interesting online article[2] which is worth a read!\n",
    "It is useul where the sample size is small and/or the variance is unknown. The t distribution allows statistical analyses on data sets that can't be analysed using the normal distribution. \n",
    "\n",
    "x = np.random.standard_t(df, size=None) will return samples from a standard Student’s t distribution. (df is degrees of freedom being number of independant samples -1)\n",
    "in shape it is similar to the normal bell curve but with thicker tails (so more values away from the mean value, the higher the population the closer to the normal distribution it appears)\n",
    "\n",
    "T tests can be either single or paired, **single** where you are comparing two independant sets of single measurements - for example comparing test results for male/female candidates to see whether a particular condition had a marked effect on one group, **paired** where you are measuring twice on the same person /thing - for example before and after measurements of cholesterol levels to measure effectiveness of changed diet over a six month period. \n",
    "Another practical example would be the comparision of drug responses versus a control (placebo taking)group to determine whether or not the results obtained would stand up in a larger population. \n",
    "\n"
   ]
  },
  {
   "cell_type": "code",
   "execution_count": 41,
   "metadata": {},
   "outputs": [
    {
     "data": {
      "image/png": "[encoded data removed]",
      "text/plain": [
       "<Figure size 432x288 with 1 Axes>"
      ]
     },
     "metadata": {
      "needs_background": "light"
     },
     "output_type": "display_data"
    }
   ],
   "source": [
    "x = np.random.standard_t(10, size=500)\n",
    "x2 = np.random.normal( 0.5,size=500)\n",
    "#print (x)\n",
    "plt.hist(x)\n",
    "plt.hist(x2)\n",
    "\n",
    "plt.show ()"
   ]
  },
  {
   "cell_type": "markdown",
   "metadata": {},
   "source": [
    "### [logistic](https://docs.scipy.org/doc/numpy-1.15.1/reference/generated/numpy.random.logistic.html#numpy.random.logistic)"
   ]
  },
  {
   "cell_type": "code",
   "execution_count": 28,
   "metadata": {},
   "outputs": [
    {
     "data": {
      "image/png": "[encoded data removed]",
      "text/plain": [
       "<Figure size 432x288 with 1 Axes>"
      ]
     },
     "metadata": {
      "needs_background": "light"
     },
     "output_type": "display_data"
    }
   ],
   "source": [
    ">>> loc, scale = 10, 1\n",
    ">>> s = np.random.logistic(loc, scale, 10000)\n",
    ">>> count, bins, ignored = plt.hist(s, bins=50)\n",
    "\n",
    "\n",
    "\n",
    "\n"
   ]
  },
  {
   "cell_type": "markdown",
   "metadata": {},
   "source": [
    "## Section Five - Explain the use of seeds in generating pseudorandom numbers. "
   ]
  },
  {
   "cell_type": "markdown",
   "metadata": {},
   "source": [
    "A seed is a number used as the starting point in a pseudorandom number generator. Where the seed is specified (set) the algorithms that prduce the 'random' numbers will produce the same nunbers each time it is run with that seed. The algorithm used by numpy.randpm is the [Mersenne Twister](https://en.wikipedia.org/wiki/Mersenne_Twister).\n",
    "\n",
    "This ability to set the seed and thus return the same numbers has uses when testing/debugging code as 'random' numbers can also be reproduced later, if the starting point in the sequence is known. Where the seed is not set algorithm will use some kind of default seed (e.g. using the system clock)"
   ]
  },
  {
   "cell_type": "code",
   "execution_count": 29,
   "metadata": {},
   "outputs": [
    {
     "name": "stdout",
     "output_type": "stream",
     "text": [
      "[0.63605104 0.7160673  0.12011067 0.59510264 0.1201883  0.08372262\n",
      " 0.19395518 0.4659553  0.29813318 0.34159314]\n",
      "[0.67533993 0.32347358 0.18538328 0.44765234 0.63545717 0.48835671\n",
      " 0.01441708 0.5051553  0.97860076 0.58178571]\n"
     ]
    }
   ],
   "source": [
    "# below will demonstrate that where the seed is not set the random numbers change\n",
    "# each timr they are called\n",
    "\n",
    "x = np.random.rand(10)\n",
    "print(x)\n",
    "x = np.random.rand(10)\n",
    "print(x)"
   ]
  },
  {
   "cell_type": "code",
   "execution_count": 30,
   "metadata": {},
   "outputs": [
    {
     "name": "stdout",
     "output_type": "stream",
     "text": [
      "[0.22199317 0.87073231 0.20671916 0.91861091 0.48841119 0.61174386\n",
      " 0.76590786 0.51841799 0.2968005  0.18772123]\n",
      "[0.22199317 0.87073231 0.20671916 0.91861091 0.48841119 0.61174386\n",
      " 0.76590786 0.51841799 0.2968005  0.18772123]\n"
     ]
    }
   ],
   "source": [
    "# when the seed is set the same numbers are returned \n",
    "\n",
    "np.random.seed(5)\n",
    "x =np.random.rand(10)\n",
    "print(x)\n",
    "np.random.seed(5)\n",
    "np.random.rand(10)\n",
    "print(x)"
   ]
  },
  {
   "cell_type": "code",
   "execution_count": null,
   "metadata": {},
   "outputs": [],
   "source": []
  },
  {
   "cell_type": "markdown",
   "metadata": {},
   "source": [
    "## Section six - references and conclusion\n",
    "\n",
    "### references specific\n",
    "[1] https://docs.scipy.org/doc/numpy-1.15.1/reference/routines.random.html#simple-random-data\n",
    "\n",
    "\n",
    "\n",
    "[2]https://medium.freecodecamp.org/the-t-distribution-a-key-statistical-concept-discovered-by-a-beer-brewery-dbfdc693184\n",
    "\n",
    "\n",
    "\n",
    "\n",
    "\n",
    "\n",
    "\n",
    "### references general\n",
    "https://stackoverflow.com/\n",
    "\n",
    "https://realpython.com/python-random/\n",
    "\n",
    "https://revisionmaths.com/advanced-level-maths-revision/advanced-level-level-statistics\n",
    "\n",
    "http://www.amsi.org.au/ESA_Senior_Years/seniors_years.html\n",
    "\n",
    "https://stattrek.com/\n",
    "\n",
    "https://www.statisticshowto.datasciencecentral.com/\n",
    "\n",
    "\n",
    "\n",
    "\n",
    "\n"
   ]
  },
  {
   "cell_type": "code",
   "execution_count": null,
   "metadata": {},
   "outputs": [],
   "source": []
  },
  {
   "cell_type": "code",
   "execution_count": null,
   "metadata": {},
   "outputs": [],
   "source": []
  },
  {
   "cell_type": "code",
   "execution_count": null,
   "metadata": {},
   "outputs": [],
   "source": []
  }
 ],
 "metadata": {
  "kernelspec": {
   "display_name": "Python 3",
   "language": "python",
   "name": "python3"
  },
  "language_info": {
   "codemirror_mode": {
    "name": "ipython",
    "version": 3
   },
   "file_extension": ".py",
   "mimetype": "text/x-python",
   "name": "python",
   "nbconvert_exporter": "python",
   "pygments_lexer": "ipython3",
   "version": "3.7.0"
  }
 },
 "nbformat": 4,
 "nbformat_minor": 2
}

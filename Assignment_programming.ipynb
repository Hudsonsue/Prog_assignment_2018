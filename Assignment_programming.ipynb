{
 "cells": [
  {
   "cell_type": "markdown",
   "metadata": {},
   "source": [
    "# numpy.random - a study of the package\n",
    "### Student ID G00219132\n",
    "\n",
    "This notebook is a submission for assignment 2018 Module **Programming for Data Analysis**The module is delivered as part of the [Higher Diploma in Data Analytics](https://www.gmit.ie/computing/higher-diploma-science-computing-data-analytics-ict-skills) in [Galway Mayo IT](https://www.gmit.ie/), Galway.\n"
   ]
  },
  {
   "cell_type": "markdown",
   "metadata": {},
   "source": [
    "## problem statement outline\n",
    "The assignment requires the creation of a jupyter notebook explaining the use of the numpy random package in Python. There are four distinct tasks, a below. \n",
    "* Explain structure of package [Randon Sampling numpy.random](https://docs.scipy.org/doc/numpy/reference/routines.random.html)[1]\n",
    "* Explain use of \"Simple random data\" and \"Permutations\" functions.\n",
    "* Explain the use and purpose of at least five \"distributions\" functions.\n",
    "* Explain the use of seeds in generating pseudorandom numbers. "
   ]
  },
  {
   "cell_type": "markdown",
   "metadata": {},
   "source": [
    "## notebook structure\n",
    "The notebook is split up into the following sections\n",
    "* Section One - General setup and importatation of necessary python packages\n",
    "* Section Two - Explain structure of package\n",
    "* Section Three - Explain use of \"Simple random data\" and \"Permutations\" functions.\n",
    "* Section Four - Explain the use and purpose of at least five \"distributions\" functions. For this section I chose:\n",
    "    * Binomial Distribution\n",
    "    * Poisson Distribution\n",
    "    * Exponential Distribution\n",
    "    * Logistic Distribution\n",
    "    * Normal Distribution\n",
    "\n",
    "* Section Five - Explain the use of seeds in generating pseudorandom numbers. \n",
    "* Section Six - references and conclusion"
   ]
  },
  {
   "cell_type": "markdown",
   "metadata": {},
   "source": [
    "## Section One"
   ]
  },
  {
   "cell_type": "markdown",
   "metadata": {},
   "source": [
    "Programming language - Python 3.7.0.\n",
    "For some information about Python and it's uses see the wikipedia page, [Python](https://en.wikipedia.org/wiki/Python_(programming_language))\n",
    "python packages imported\n",
    "* Mathplotlib.pyplot.py [Mathplotlib.org](https://matplotlib.org/)\n",
    "* NumPy [NumPy](http://www.numpy.org/)"
   ]
  },
  {
   "cell_type": "code",
   "execution_count": 1,
   "metadata": {},
   "outputs": [],
   "source": [
    "%matplotlib inline \n",
    "#ensure correct display of plots"
   ]
  },
  {
   "cell_type": "code",
   "execution_count": 2,
   "metadata": {},
   "outputs": [],
   "source": [
    "import matplotlib.pyplot as plt  \n",
    "# import package for Plots"
   ]
  },
  {
   "cell_type": "code",
   "execution_count": 3,
   "metadata": {},
   "outputs": [],
   "source": [
    "import numpy as np #import the numPy package~"
   ]
  },
  {
   "cell_type": "markdown",
   "metadata": {},
   "source": [
    "## Section two - Structure of Package"
   ]
  },
  {
   "cell_type": "markdown",
   "metadata": {},
   "source": [
    "NumPy is a scientific/maths library for Python and NumPy.random is a NumPy package that generates random numbers (strictly speaking pseudo random number as they are generated from an initial seed). The generated numbers are returned as arrays and these can be single or multidimensional. \n",
    "Data can be generated as simple random data or as data samples for various probability sistributions."
   ]
  },
  {
   "cell_type": "markdown",
   "metadata": {},
   "source": [
    "## Section three - simple random data and permutations functions"
   ]
  },
  {
   "cell_type": "markdown",
   "metadata": {},
   "source": [
    "### [Random sampling - numpy.random](https://docs.scipy.org/doc/numpy-1.15.1/reference/routines.random.html)"
   ]
  },
  {
   "cell_type": "markdown",
   "metadata": {},
   "source": [
    "below is a quick run through of each of the simple randon data functions referenced in the [SciPy documentation ](https://docs.scipy.org/doc/numpy-1.15.1/reference/routines.random.html#simple-random-data)"
   ]
  },
  {
   "cell_type": "markdown",
   "metadata": {},
   "source": [
    "[np.random.rand](https://docs.scipy.org/doc/numpy-1.15.1/reference/generated/numpy.random.rand.html#numpy.random.rand) - this will generate random **uniform** values in the range 0 to 1 for a defined shape (array)\n",
    "\n",
    "The uniformity of the generated values can be seen in the histogram below."
   ]
  },
  {
   "cell_type": "code",
   "execution_count": 4,
   "metadata": {},
   "outputs": [
    {
     "name": "stdout",
     "output_type": "stream",
     "text": [
      "[0.93946297 0.69217441 0.24797227 ... 0.30213908 0.63045333 0.31596796]\n"
     ]
    },
    {
     "data": {
      "image/png": "[encoded data removed]",
      "text/plain": [
       "<Figure size 432x288 with 1 Axes>"
      ]
     },
     "metadata": {
      "needs_background": "light"
     },
     "output_type": "display_data"
    }
   ],
   "source": [
    "x = np.random.rand (10000)\n",
    "print (x)\n",
    "plt.hist(x)\n",
    "plt.show()"
   ]
  },
  {
   "cell_type": "markdown",
   "metadata": {},
   "source": [
    "[np.random.randn](https://docs.scipy.org/doc/numpy-1.15.1/reference/generated/numpy.random.randn.html#numpy.random.randn) this will generate random normalvalues in a given shape. The normal distrubtion of the generated values can be seen in the histogram."
   ]
  },
  {
   "cell_type": "code",
   "execution_count": 5,
   "metadata": {},
   "outputs": [
    {
     "name": "stdout",
     "output_type": "stream",
     "text": [
      "[-1.0217378  -0.76021323  0.38497662 ... -1.66612088 -0.94022275\n",
      " -0.34493641]\n"
     ]
    },
    {
     "data": {
      "image/png": "[encoded data removed]",
      "text/plain": [
       "<Figure size 432x288 with 1 Axes>"
      ]
     },
     "metadata": {
      "needs_background": "light"
     },
     "output_type": "display_data"
    }
   ],
   "source": [
    "x =np.random.randn(10000)\n",
    "print(x)\n",
    "plt.hist (x)\n",
    "plt.show()"
   ]
  },
  {
   "cell_type": "markdown",
   "metadata": {},
   "source": [
    "[np.randon.randint](https://docs.scipy.org/doc/numpy-1.13.0/reference/generated/numpy.random.randint.html#numpy.random.randint)\n",
    "Return random integers from low (inclusive) to high (exclusive) for a gven sample size. \n",
    "in example below will return an array of 2000 integars between 0 and 100, excluding 2000 itself\n",
    "\n"
   ]
  },
  {
   "cell_type": "code",
   "execution_count": 6,
   "metadata": {},
   "outputs": [
    {
     "name": "stdout",
     "output_type": "stream",
     "text": [
      "[13 49 16 ... 85  3 46]\n"
     ]
    },
    {
     "data": {
      "image/png": "[encoded data removed]",
      "text/plain": [
       "<Figure size 432x288 with 1 Axes>"
      ]
     },
     "metadata": {
      "needs_background": "light"
     },
     "output_type": "display_data"
    }
   ],
   "source": [
    "x =np.random.randint(0,100, size=2000)\n",
    "print(x)\n",
    "plt.hist(x)\n",
    "plt.show()"
   ]
  },
  {
   "cell_type": "code",
   "execution_count": 7,
   "metadata": {},
   "outputs": [
    {
     "data": {
      "image/png": "[encoded data removed]",
      "text/plain": [
       "<Figure size 432x288 with 1 Axes>"
      ]
     },
     "metadata": {
      "needs_background": "light"
     },
     "output_type": "display_data"
    }
   ],
   "source": [
    "plt.hist(x)\n",
    "plt.show()"
   ]
  },
  {
   "cell_type": "markdown",
   "metadata": {},
   "source": [
    "[np.random.random_sample()](https://docs.scipy.org/doc/numpy-1.15.1/reference/generated/numpy.random.random_sample.html#numpy.random.random_sample)- Return random floats in the half-open interval [0.0, 1.0)."
   ]
  },
  {
   "cell_type": "code",
   "execution_count": 8,
   "metadata": {},
   "outputs": [
    {
     "name": "stdout",
     "output_type": "stream",
     "text": [
      "[0.88133195 0.48788247 0.61333972 0.21383698 0.19942751]\n"
     ]
    },
    {
     "data": {
      "text/plain": [
       "<function matplotlib.pyplot.show(*args, **kw)>"
      ]
     },
     "execution_count": 8,
     "metadata": {},
     "output_type": "execute_result"
    },
    {
     "data": {
      "image/png": "[encoded data removed]",
      "text/plain": [
       "<Figure size 432x288 with 1 Axes>"
      ]
     },
     "metadata": {
      "needs_background": "light"
     },
     "output_type": "display_data"
    }
   ],
   "source": [
    "x = np.random.random_sample((5,))\n",
    "print(x)\n",
    "plt.hist (x)\n",
    "plt.show"
   ]
  },
  {
   "cell_type": "code",
   "execution_count": 9,
   "metadata": {},
   "outputs": [],
   "source": [
    "x = np.random.ranf(size=10)"
   ]
  },
  {
   "cell_type": "code",
   "execution_count": 10,
   "metadata": {},
   "outputs": [
    {
     "data": {
      "text/plain": [
       "array([0.66595818, 0.67306406, 0.26347874, 0.03042929, 0.13925609,\n",
       "       0.31603657, 0.69394531, 0.42075222, 0.76828675, 0.551511  ])"
      ]
     },
     "execution_count": 10,
     "metadata": {},
     "output_type": "execute_result"
    }
   ],
   "source": [
    "x"
   ]
  },
  {
   "cell_type": "code",
   "execution_count": 11,
   "metadata": {},
   "outputs": [],
   "source": [
    "x = np.random.choice(6,4)"
   ]
  },
  {
   "cell_type": "code",
   "execution_count": 12,
   "metadata": {},
   "outputs": [
    {
     "data": {
      "text/plain": [
       "array([2, 4, 5, 3])"
      ]
     },
     "execution_count": 12,
     "metadata": {},
     "output_type": "execute_result"
    }
   ],
   "source": [
    "x"
   ]
  },
  {
   "cell_type": "code",
   "execution_count": 13,
   "metadata": {},
   "outputs": [],
   "source": [
    "x = np.random.bytes(16)"
   ]
  },
  {
   "cell_type": "code",
   "execution_count": 14,
   "metadata": {},
   "outputs": [
    {
     "name": "stdout",
     "output_type": "stream",
     "text": [
      "b'\\x82\\xa2\\x83c}\\x05!\\x1bz\\xe3\\xcdhtRX\\xaa'\n"
     ]
    }
   ],
   "source": [
    "print(x)"
   ]
  },
  {
   "cell_type": "markdown",
   "metadata": {},
   "source": [
    "[np.random.shuffle(x)](https://docs.scipy.org/doc/numpy-1.15.1/reference/generated/numpy.random.shuffle.html#numpy.random.shuffle)-shuffles the contents of a sequence. This shuffle is along the first axis of multi dimensional arrays"
   ]
  },
  {
   "cell_type": "code",
   "execution_count": null,
   "metadata": {},
   "outputs": [],
   "source": []
  },
  {
   "cell_type": "code",
   "execution_count": 15,
   "metadata": {},
   "outputs": [
    {
     "data": {
      "text/plain": [
       "array([[[ 0,  1,  2,  3],\n",
       "        [ 4,  5,  6,  7],\n",
       "        [ 8,  9, 10, 11],\n",
       "        [12, 13, 14, 15]],\n",
       "\n",
       "       [[16, 17, 18, 19],\n",
       "        [20, 21, 22, 23],\n",
       "        [24, 25, 26, 27],\n",
       "        [28, 29, 30, 31]],\n",
       "\n",
       "       [[32, 33, 34, 35],\n",
       "        [36, 37, 38, 39],\n",
       "        [40, 41, 42, 43],\n",
       "        [44, 45, 46, 47]],\n",
       "\n",
       "       [[48, 49, 50, 51],\n",
       "        [52, 53, 54, 55],\n",
       "        [56, 57, 58, 59],\n",
       "        [60, 61, 62, 63]]])"
      ]
     },
     "execution_count": 15,
     "metadata": {},
     "output_type": "execute_result"
    }
   ],
   "source": [
    "x = np.arange(64).reshape((4, 4, 4))\n",
    "x"
   ]
  },
  {
   "cell_type": "code",
   "execution_count": 16,
   "metadata": {},
   "outputs": [
    {
     "data": {
      "text/plain": [
       "array([[[16, 17, 18, 19],\n",
       "        [20, 21, 22, 23],\n",
       "        [24, 25, 26, 27],\n",
       "        [28, 29, 30, 31]],\n",
       "\n",
       "       [[32, 33, 34, 35],\n",
       "        [36, 37, 38, 39],\n",
       "        [40, 41, 42, 43],\n",
       "        [44, 45, 46, 47]],\n",
       "\n",
       "       [[ 0,  1,  2,  3],\n",
       "        [ 4,  5,  6,  7],\n",
       "        [ 8,  9, 10, 11],\n",
       "        [12, 13, 14, 15]],\n",
       "\n",
       "       [[48, 49, 50, 51],\n",
       "        [52, 53, 54, 55],\n",
       "        [56, 57, 58, 59],\n",
       "        [60, 61, 62, 63]]])"
      ]
     },
     "execution_count": 16,
     "metadata": {},
     "output_type": "execute_result"
    }
   ],
   "source": [
    "np.random.shuffle(x)\n",
    "x"
   ]
  },
  {
   "cell_type": "code",
   "execution_count": 17,
   "metadata": {},
   "outputs": [
    {
     "data": {
      "text/plain": [
       "array([[[ 0,  1,  2,  3],\n",
       "        [ 4,  5,  6,  7],\n",
       "        [ 8,  9, 10, 11],\n",
       "        [12, 13, 14, 15]],\n",
       "\n",
       "       [[48, 49, 50, 51],\n",
       "        [52, 53, 54, 55],\n",
       "        [56, 57, 58, 59],\n",
       "        [60, 61, 62, 63]],\n",
       "\n",
       "       [[32, 33, 34, 35],\n",
       "        [36, 37, 38, 39],\n",
       "        [40, 41, 42, 43],\n",
       "        [44, 45, 46, 47]],\n",
       "\n",
       "       [[16, 17, 18, 19],\n",
       "        [20, 21, 22, 23],\n",
       "        [24, 25, 26, 27],\n",
       "        [28, 29, 30, 31]]])"
      ]
     },
     "execution_count": 17,
     "metadata": {},
     "output_type": "execute_result"
    }
   ],
   "source": [
    "np.random.shuffle(x)\n",
    "x"
   ]
  },
  {
   "cell_type": "code",
   "execution_count": 18,
   "metadata": {},
   "outputs": [
    {
     "data": {
      "text/plain": [
       "array([0, 5, 3, 6, 8, 2, 4, 7, 9, 1])"
      ]
     },
     "execution_count": 18,
     "metadata": {},
     "output_type": "execute_result"
    }
   ],
   "source": [
    "np.random.permutation(10)"
   ]
  },
  {
   "cell_type": "markdown",
   "metadata": {},
   "source": [
    "[np.random.permutation](https://docs.scipy.org/doc/numpy-1.15.1/reference/generated/numpy.random.shuffle.html#numpy.random.shuffle)-Randomly permute a sequence, or return a permuted range."
   ]
  },
  {
   "cell_type": "code",
   "execution_count": 19,
   "metadata": {},
   "outputs": [
    {
     "data": {
      "text/plain": [
       "array([[0, 1, 2],\n",
       "       [3, 4, 5],\n",
       "       [6, 7, 8]])"
      ]
     },
     "execution_count": 19,
     "metadata": {},
     "output_type": "execute_result"
    }
   ],
   "source": [
    "x = np.arange(9).reshape((3, 3))\n",
    "x"
   ]
  },
  {
   "cell_type": "code",
   "execution_count": 20,
   "metadata": {},
   "outputs": [
    {
     "data": {
      "text/plain": [
       "array([[6, 7, 8],\n",
       "       [3, 4, 5],\n",
       "       [0, 1, 2]])"
      ]
     },
     "execution_count": 20,
     "metadata": {},
     "output_type": "execute_result"
    }
   ],
   "source": [
    "np.random.permutation(x)"
   ]
  },
  {
   "cell_type": "code",
   "execution_count": 21,
   "metadata": {},
   "outputs": [
    {
     "data": {
      "text/plain": [
       "array([[6, 7, 8],\n",
       "       [0, 1, 2],\n",
       "       [3, 4, 5]])"
      ]
     },
     "execution_count": 21,
     "metadata": {},
     "output_type": "execute_result"
    }
   ],
   "source": [
    "np.random.permutation(x)"
   ]
  },
  {
   "cell_type": "markdown",
   "metadata": {},
   "source": [
    "## Section four - Distributions functions\n",
    "\n",
    "Explain the use and purpose of at least five distributions. "
   ]
  },
  {
   "cell_type": "markdown",
   "metadata": {},
   "source": [
    "### [Binomial distribution](https://docs.scipy.org/doc/numpy-1.15.1/reference/generated/numpy.random.binomial.html#numpy.random.binomial)"
   ]
  },
  {
   "cell_type": "markdown",
   "metadata": {},
   "source": [
    "Binomial distribution is an expansion of the [Bernoulli trial](https://en.wikipedia.org/wiki/Bernoulli_trial) and is used to predict outcomes in instances where there are a **finite** number of **independant** trials (n) with one of **two possible outcomes** (success or failure) where the **probality of success (p) is the same for each trial**. \n",
    "\n",
    "The Binomial Distribution is used when looking at large populations for the presence/absence of a characteristic where there can only be one of two outcomes. For example probability of defective parts in production ines,  probability of having a particular genetic combination etc. "
   ]
  },
  {
   "cell_type": "code",
   "execution_count": 22,
   "metadata": {},
   "outputs": [
    {
     "name": "stdout",
     "output_type": "stream",
     "text": [
      "[249 275 241 ... 252 240 252]\n"
     ]
    },
    {
     "data": {
      "image/png": "[encoded data removed]",
      "text/plain": [
       "<Figure size 432x288 with 1 Axes>"
      ]
     },
     "metadata": {
      "needs_background": "light"
     },
     "output_type": "display_data"
    }
   ],
   "source": [
    "# np.random.binomial will return numbers in the binomial probability distribution based \n",
    "# on a nmber of events(n), the probability of a successful outcome (p) and the number of repetitions of the event\n",
    "\n",
    "n, p = 500, 0.5  # events, probability \n",
    "x = np.random.binomial(n, p, 10000) # number of repetitions\n",
    "print(x)\n",
    "\n",
    "plt.hist(x,bins =300)\n",
    "plt.show()\n"
   ]
  },
  {
   "cell_type": "markdown",
   "metadata": {},
   "source": [
    "### [Poisson Distribution](https://docs.scipy.org/doc/numpy/reference/generated/numpy.random.poisson.html#numpy.random.poisson) "
   ]
  },
  {
   "cell_type": "markdown",
   "metadata": {},
   "source": [
    "The Poisson Distrubtion measures the probability of events happening over a specified interval based on known occurrances (average rate) of the events. An event occurring is unrelated to the liklihood of a further event happening within the interval.  \n",
    "\n",
    "It could be used to predict sales likely peak sales patterns, A & E patient arrivals, likely hits on websites. A day to day use that most of us would be familiar with would relate to hts on web pages, e.g. page requests per second to a website. Modeling this with a Poisson distribution could be very helpful for estimating peak load (amd thus planning serverd around this) given average load."
   ]
  },
  {
   "cell_type": "code",
   "execution_count": 23,
   "metadata": {},
   "outputs": [
    {
     "name": "stdout",
     "output_type": "stream",
     "text": [
      "[1 1 2 ... 0 1 0]\n"
     ]
    },
    {
     "data": {
      "text/plain": [
       "(array([6.091e+03, 0.000e+00, 3.006e+03, 0.000e+00, 7.510e+02, 0.000e+00,\n",
       "        1.300e+02, 0.000e+00, 2.100e+01, 1.000e+00]),\n",
       " array([0. , 0.5, 1. , 1.5, 2. , 2.5, 3. , 3.5, 4. , 4.5, 5. ]),\n",
       " <a list of 10 Patch objects>)"
      ]
     },
     "execution_count": 23,
     "metadata": {},
     "output_type": "execute_result"
    },
    {
     "data": {
      "image/png": "[encoded data removed]",
      "text/plain": [
       "<Figure size 432x288 with 1 Axes>"
      ]
     },
     "metadata": {
      "needs_background": "light"
     },
     "output_type": "display_data"
    }
   ],
   "source": [
    "# below creates an array of 10000 elements each taken from a poisson probability distribution\n",
    "# where the function has a mean value of 0.5 \n",
    "\n",
    "x = np.random.poisson(0.5, 10000)\n",
    "print(x)\n",
    "plt.hist(x)"
   ]
  },
  {
   "cell_type": "markdown",
   "metadata": {},
   "source": [
    "### [exponential distribution](https://docs.scipy.org/doc/numpy-1.15.1/reference/generated/numpy.random.exponential.html#numpy.random.exponential)"
   ]
  },
  {
   "cell_type": "markdown",
   "metadata": {},
   "source": [
    "Exponential distribution is the probability distribution that describes the time between events in a Poisson process. When looking at evemts occurring ranomly in time the poisson distribution gives probabilities for the number of events wheras the exponential distribution gives the probabilities for the times between the events. \n",
    "\n",
    "Some examples of exponential distributions would be the half life of atoms in radioactive decay or the time between calls to a call centre."
   ]
  },
  {
   "cell_type": "code",
   "execution_count": 24,
   "metadata": {},
   "outputs": [
    {
     "name": "stdout",
     "output_type": "stream",
     "text": [
      "[1.40136646 0.40693663 0.34667952 ... 0.56601739 1.01072737 1.23869933]\n"
     ]
    },
    {
     "data": {
      "image/png": "[encoded data removed]",
      "text/plain": [
       "<Figure size 432x288 with 1 Axes>"
      ]
     },
     "metadata": {
      "needs_background": "light"
     },
     "output_type": "display_data"
    }
   ],
   "source": [
    "# np.random.exponential will return valies in an exponential distribution\n",
    "# scale is the inverse of lambda, number of evenys per unit time\n",
    "\n",
    "x = np.random.exponential(scale=1, size=10000)\n",
    "print (x)\n",
    "plt.hist(x)\n",
    "plt.show()"
   ]
  },
  {
   "cell_type": "markdown",
   "metadata": {},
   "source": [
    "### [normal distrubution](https://docs.scipy.org/doc/numpy-1.15.1/reference/generated/numpy.random.normal.html#numpy.random.normal)"
   ]
  },
  {
   "cell_type": "markdown",
   "metadata": {},
   "source": [
    "The mean, median, and mode of a normal distribution are equal. The area under the normal curve is equal to 1.0. Normal distributions are denser in the center and less dense in the tails. Normal distributions are defined by two parameters, the mean (μ) and the standard deviation (σ)."
   ]
  },
  {
   "cell_type": "code",
   "execution_count": 26,
   "metadata": {},
   "outputs": [],
   "source": [
    "mu, sigma = 50, 5 # mean and standard deviation\n",
    "x = np.random.normal(mu, sigma, 5000)"
   ]
  },
  {
   "cell_type": "code",
   "execution_count": 27,
   "metadata": {},
   "outputs": [
    {
     "data": {
      "image/png": "[encoded data removed]",
      "text/plain": [
       "<Figure size 432x288 with 1 Axes>"
      ]
     },
     "metadata": {
      "needs_background": "light"
     },
     "output_type": "display_data"
    }
   ],
   "source": [
    "plt.hist(x)\n",
    "plt.show()"
   ]
  },
  {
   "cell_type": "markdown",
   "metadata": {},
   "source": [
    "### [Standard t distribution](https://docs.scipy.org/doc/numpy-1.15.1/reference/generated/numpy.random.standard_t.html#numpy.random.standard_t)"
   ]
  },
  {
   "cell_type": "markdown",
   "metadata": {},
   "source": [
    "The standart t distribution is related to the normal(Gaussian) distribution. It is a probability distribution which was developed by William Gosset in 1908, while he worked for Guinness Breweries. he published his work as 'student', hence the name. \n",
    "It is useul where the sample size is small and/or the variance is unknown. The t distribution allows statistical analyses on data sets that can't be analysed using the normal distribution.\n",
    "There are different t distributions [T tables](<img src=\"t table.PNG\"/>.The particular form of the t distribution is determined by its degrees of freedom. The degrees of freedom refers to the number of independent observations in a set of data."
   ]
  },
  {
   "cell_type": "code",
   "execution_count": 35,
   "metadata": {},
   "outputs": [
    {
     "name": "stdout",
     "output_type": "stream",
     "text": [
      "[-3.68257385e-01  2.43768201e-01  4.52817772e-01 -4.02018497e-01\n",
      "  7.72573140e-01 -5.27288168e-01  7.63099479e-01  2.75648129e+00\n",
      "  1.72610026e+00  2.33836208e+00 -1.29780055e-01 -1.37113606e-02\n",
      "  1.85504370e-01 -1.13458403e+00 -1.28778187e+00  5.69674556e-01\n",
      "  1.64845320e+00  5.32835690e-01  3.85041922e-01  1.56829131e-01\n",
      " -6.85071228e-01  2.27258875e+00 -1.73510460e+00  2.33436629e-01\n",
      " -2.70656413e-02  3.48120369e-01  1.01817173e+00 -1.18439789e+00\n",
      " -4.46306246e-01  1.27042418e+00 -1.67314730e+00 -6.98177868e-03\n",
      "  7.02942539e-01 -4.91978658e-03 -1.05461271e+00  1.62252434e+00\n",
      "  4.90468981e-01 -7.01187660e-01 -6.38687294e-02  2.51416093e+00\n",
      "  5.14913916e-01 -2.05008787e+00  4.10945646e+00 -1.46681092e+00\n",
      " -5.03516183e-01  3.98295879e-01  4.05108711e-01 -1.06695631e+00\n",
      "  7.15228628e-01 -8.71380022e-01  4.49281888e-01 -9.33454277e-02\n",
      "  8.89666553e-01  7.89230387e-01  2.38214961e-01  4.95220166e-01\n",
      " -3.98538943e-01 -2.04135024e+00  2.19440020e-01  1.03512484e+00\n",
      " -4.27919374e-01  5.02815340e-01  3.88530257e-01 -2.25296468e-01\n",
      "  6.55449344e-01 -9.64226478e-01  4.99442875e-01  3.23141092e-01\n",
      " -1.88853473e-01 -3.60577748e-01 -9.29083507e-01  1.44538956e-01\n",
      "  2.56748632e-03 -2.44451684e-01  8.18754847e-02  4.71265467e-01\n",
      "  3.83819785e+00 -2.94364513e-02 -1.34239566e+00 -7.95050105e-01\n",
      " -6.83845496e-01 -1.06609869e+00  1.16738842e+00 -1.90969645e+00\n",
      "  7.35121204e-01 -2.72095420e-01  7.88914944e-01  1.76169340e+00\n",
      "  1.16623405e-01  5.38177154e-02 -8.52640739e-02  3.46979995e-01\n",
      "  4.40109356e-01  1.55271362e+00  4.75914358e-01 -2.71041170e-01\n",
      "  1.41921327e+00 -3.06995864e-01 -7.24552864e-01  5.30476175e-03]\n"
     ]
    },
    {
     "data": {
      "image/png": "[encoded data removed]",
      "text/plain": [
       "<Figure size 432x288 with 1 Axes>"
      ]
     },
     "metadata": {
      "needs_background": "light"
     },
     "output_type": "display_data"
    }
   ],
   "source": [
    "x = np.random.standard_t(29, size=100)\n",
    "print (x)\n",
    "plt.hist(x)\n",
    "plt.show ()"
   ]
  },
  {
   "cell_type": "markdown",
   "metadata": {},
   "source": [
    "### [logistic](https://docs.scipy.org/doc/numpy-1.15.1/reference/generated/numpy.random.logistic.html#numpy.random.logistic)"
   ]
  },
  {
   "cell_type": "code",
   "execution_count": 25,
   "metadata": {},
   "outputs": [
    {
     "data": {
      "image/png": "[encoded data removed]",
      "text/plain": [
       "<Figure size 432x288 with 1 Axes>"
      ]
     },
     "metadata": {
      "needs_background": "light"
     },
     "output_type": "display_data"
    }
   ],
   "source": [
    ">>> loc, scale = 10, 1\n",
    ">>> s = np.random.logistic(loc, scale, 10000)\n",
    ">>> count, bins, ignored = plt.hist(s, bins=50)\n",
    "\n",
    "\n",
    "\n",
    "\n"
   ]
  },
  {
   "cell_type": "markdown",
   "metadata": {},
   "source": [
    "## Section Five - Explain the use of seeds in generating pseudorandom numbers. "
   ]
  },
  {
   "cell_type": "markdown",
   "metadata": {},
   "source": [
    "A seed is a number used as the starting point in a pseudorandom number generator. Where the seed is specified (set) the algorithms that prduce the 'random' numbers will produce the same nunbers each time it is run with that seed. The algorithm used by numpy.randpm is the [Mersenne Twister](https://en.wikipedia.org/wiki/Mersenne_Twister).\n",
    "\n",
    "This ability to set the seed and thus return the same numbers has uses when testing/debugging code as 'random' numbers can also be reproduced later, if the starting point in the sequence is known. Where the seed is not set algorithm will use some kind of default seed (e.g. using the system clock)"
   ]
  },
  {
   "cell_type": "code",
   "execution_count": 29,
   "metadata": {},
   "outputs": [
    {
     "name": "stdout",
     "output_type": "stream",
     "text": [
      "[0.08386418 0.90380628 0.57295323 0.98314581 0.00657807 0.25523914\n",
      " 0.42482679 0.11794313 0.98461273 0.50098747]\n",
      "[0.9436028  0.82606193 0.99569574 0.19222758 0.68254654 0.14923046\n",
      " 0.80003038 0.05484361 0.40394782 0.78972523]\n"
     ]
    }
   ],
   "source": [
    "# below will demonstrate that where the seed is not set the random numbers change\n",
    "# each timr they are called\n",
    "\n",
    "x = np.random.rand(10)\n",
    "print(x)\n",
    "x = np.random.rand(10)\n",
    "print(x)"
   ]
  },
  {
   "cell_type": "code",
   "execution_count": 30,
   "metadata": {},
   "outputs": [
    {
     "name": "stdout",
     "output_type": "stream",
     "text": [
      "[0.22199317 0.87073231 0.20671916 0.91861091 0.48841119 0.61174386\n",
      " 0.76590786 0.51841799 0.2968005  0.18772123]\n",
      "[0.22199317 0.87073231 0.20671916 0.91861091 0.48841119 0.61174386\n",
      " 0.76590786 0.51841799 0.2968005  0.18772123]\n"
     ]
    }
   ],
   "source": [
    "# when the seed is set the same numbers are returned \n",
    "\n",
    "np.random.seed(5)\n",
    "x =np.random.rand(10)\n",
    "print(x)\n",
    "np.random.seed(5)\n",
    "np.random.rand(10)\n",
    "print(x)"
   ]
  },
  {
   "cell_type": "code",
   "execution_count": null,
   "metadata": {},
   "outputs": [],
   "source": []
  },
  {
   "cell_type": "markdown",
   "metadata": {},
   "source": [
    "## Section six - references and conclusion\n",
    "\n",
    "### references specific\n",
    "[1] https://docs.scipy.org/doc/numpy-1.15.1/reference/routines.random.html#simple-random-data\n",
    "\n",
    "\n",
    "\n",
    "https://medium.freecodecamp.org/the-t-distribution-a-key-statistical-concept-discovered-by-a-beer-brewery-dbfdc693184\n",
    "\n",
    "\n",
    "\n",
    "\n",
    "\n",
    "\n",
    "\n",
    "### references general\n",
    "https://stackoverflow.com/\n",
    "\n",
    "https://realpython.com/python-random/\n",
    "\n",
    "https://revisionmaths.com/advanced-level-maths-revision/advanced-level-level-statistics\n",
    "\n",
    "http://www.amsi.org.au/ESA_Senior_Years/seniors_years.html\n",
    "\n",
    "https://stattrek.com/\n",
    "\n",
    "\n",
    "\n",
    "\n",
    "\n"
   ]
  },
  {
   "cell_type": "code",
   "execution_count": null,
   "metadata": {},
   "outputs": [],
   "source": []
  },
  {
   "cell_type": "code",
   "execution_count": null,
   "metadata": {},
   "outputs": [],
   "source": []
  },
  {
   "cell_type": "code",
   "execution_count": null,
   "metadata": {},
   "outputs": [],
   "source": []
  }
 ],
 "metadata": {
  "kernelspec": {
   "display_name": "Python 3",
   "language": "python",
   "name": "python3"
  },
  "language_info": {
   "codemirror_mode": {
    "name": "ipython",
    "version": 3
   },
   "file_extension": ".py",
   "mimetype": "text/x-python",
   "name": "python",
   "nbconvert_exporter": "python",
   "pygments_lexer": "ipython3",
   "version": "3.7.0"
  }
 },
 "nbformat": 4,
 "nbformat_minor": 2
}

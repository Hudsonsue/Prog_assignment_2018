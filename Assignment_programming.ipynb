{
 "cells": [
  {
   "cell_type": "markdown",
   "metadata": {},
   "source": [
    "# numpy.random - a study of the package\n",
    "### Student ID G00219132\n",
    "\n",
    "This notebook is a submission for assignment 2018 Module **Programming for Data Analysis**The module is delivered as part of the [Higher Diploma in Data Analytics](https://www.gmit.ie/computing/higher-diploma-science-computing-data-analytics-ict-skills) in [Galway Mayo IT](https://www.gmit.ie/), Galway.\n"
   ]
  },
  {
   "cell_type": "markdown",
   "metadata": {},
   "source": [
    "## problem statement outline\n",
    "The assignment requires the creation of a jupyter notebook explaining the use of the numpy random package in Python. There are four distinct tasks, as below. \n",
    "\n",
    "* Explain structure of package [Random Sampling numpy.random](https://docs.scipy.org/doc/numpy/reference/routines.random.html)[1]\n",
    "* Explain use of \"Simple random data\" and \"Permutations\" functions.\n",
    "* Explain the use and purpose of at least five \"distributions\" functions.\n",
    "* Explain the use of seeds in generating pseudorandom numbers. "
   ]
  },
  {
   "cell_type": "markdown",
   "metadata": {},
   "source": [
    "## notebook structure\n",
    "The notebook is split up into the following sections\n",
    "* Section One - General setup and importatation of necessary python packages\n",
    "* Section Two - Explain structure of package\n",
    "* Section Three - Explain use of \"Simple random data\" and \"Permutations\" functions.\n",
    "* Section Four - Explain the use and purpose of at least five \"distributions\" functions. For this section I chose:\n",
    "\n",
    "\n",
    "    * Binomial Distribution\n",
    "    * Poisson Distribution\n",
    "    * Exponential Distribution\n",
    "    * Normal Distribution\n",
    "    * Standard t Distribution\n",
    "\n",
    "\n",
    "* Section Five - Explain the use of seeds in generating pseudorandom numbers. \n",
    "* Section Six - references and conclusion"
   ]
  },
  {
   "cell_type": "markdown",
   "metadata": {},
   "source": [
    "## Section One - general set up"
   ]
  },
  {
   "cell_type": "markdown",
   "metadata": {},
   "source": [
    "Programming language - Python 3.7.0.\n",
    "For some information about Python and it's uses see the wikipedia page, [Python](https://en.wikipedia.org/wiki/Python_(programming_language))\n",
    "python packages imported\n",
    "* Mathplotlib.pyplot.py [Mathplotlib.org](https://matplotlib.org/)\n",
    "* NumPy [NumPy](http://www.numpy.org/)"
   ]
  },
  {
   "cell_type": "code",
   "execution_count": 1,
   "metadata": {},
   "outputs": [],
   "source": [
    "%matplotlib inline \n",
    "#ensure correct display of plots"
   ]
  },
  {
   "cell_type": "code",
   "execution_count": 2,
   "metadata": {},
   "outputs": [],
   "source": [
    "import matplotlib.pyplot as plt  \n",
    "# import package for Plots"
   ]
  },
  {
   "cell_type": "code",
   "execution_count": 3,
   "metadata": {},
   "outputs": [],
   "source": [
    "import numpy as np #import the numPy package~"
   ]
  },
  {
   "cell_type": "markdown",
   "metadata": {},
   "source": [
    "## Section two - Structure of Package"
   ]
  },
  {
   "cell_type": "markdown",
   "metadata": {},
   "source": [
    "NumPy is a scientific/maths library for Python and NumPy.random is a NumPy package that generates random numbers (strictly speaking pseudo random number as they are generated from an initial seed).\n",
    "\n",
    "The generated numbers are returned as arrays and these can be single or multidimensional. \n",
    "\n",
    "Data can be generated as simple random data or as data samples for various probability distributions. the ability to efficiently produce pseudorandom numbers is useful for many computing tasks for example in computer gaming (player against the machine!), inspirational quotes of the day (I won't link any here !) and of course statistical sampling. "
   ]
  },
  {
   "cell_type": "markdown",
   "metadata": {},
   "source": [
    "## Section three - simple random data and permutations functions"
   ]
  },
  {
   "cell_type": "markdown",
   "metadata": {},
   "source": [
    "### [Random sampling - numpy.random](https://docs.scipy.org/doc/numpy-1.15.1/reference/routines.random.html)"
   ]
  },
  {
   "cell_type": "markdown",
   "metadata": {},
   "source": [
    "Below is a quick run through of some of the simple randon data functions referenced in the [SciPy documentation ](https://docs.scipy.org/doc/numpy-1.15.1/reference/routines.random.html#simple-random-data). This is intended to give a flavour of the possibilities within the random generator. I will also demonstrate what shuffle and permutation do."
   ]
  },
  {
   "cell_type": "markdown",
   "metadata": {},
   "source": [
    "[np.random.rand](https://docs.scipy.org/doc/numpy-1.15.1/reference/generated/numpy.random.rand.html#numpy.random.rand) - this will generate random **uniform** values in the range 0 to 1 for a defined shape (array)\n",
    "The uniformity of the generated values can be seen in the histogram below."
   ]
  },
  {
   "cell_type": "code",
   "execution_count": 4,
   "metadata": {},
   "outputs": [
    {
     "name": "stdout",
     "output_type": "stream",
     "text": [
      "[0.33798424 0.79667901 0.3361771  ... 0.92919306 0.95052487 0.39426461]\n"
     ]
    },
    {
     "data": {
      "image/png": "[encoded data removed]",
      "text/plain": [
       "<Figure size 432x288 with 1 Axes>"
      ]
     },
     "metadata": {
      "needs_background": "light"
     },
     "output_type": "display_data"
    }
   ],
   "source": [
    "x = np.random.rand (10000)\n",
    "print (x)\n",
    "plt.hist(x)\n",
    "plt.show()"
   ]
  },
  {
   "cell_type": "markdown",
   "metadata": {},
   "source": [
    "[np.random.randn](https://docs.scipy.org/doc/numpy-1.15.1/reference/generated/numpy.random.randn.html#numpy.random.randn)- this will generate random normal values in a given shape. The normal distrubtion of the generated values can be seen in the histogram."
   ]
  },
  {
   "cell_type": "code",
   "execution_count": 5,
   "metadata": {},
   "outputs": [
    {
     "name": "stdout",
     "output_type": "stream",
     "text": [
      "[-1.10681894 -0.87357934 -0.25309292 ...  0.72497667  0.42391689\n",
      "  1.46010262]\n"
     ]
    },
    {
     "data": {
      "image/png": "[encoded data removed]",
      "text/plain": [
       "<Figure size 432x288 with 1 Axes>"
      ]
     },
     "metadata": {
      "needs_background": "light"
     },
     "output_type": "display_data"
    }
   ],
   "source": [
    "x =np.random.randn(10000)\n",
    "print(x)\n",
    "plt.hist (x)\n",
    "plt.show()"
   ]
  },
  {
   "cell_type": "markdown",
   "metadata": {},
   "source": [
    "[np.randon.randint](https://docs.scipy.org/doc/numpy-1.13.0/reference/generated/numpy.random.randint.html#numpy.random.randint)\n",
    " This returns random integers from low (inclusive) to high (exclusive) for a given sample size. \n",
    "in example below will return an array of 2000 integars between 0 and 100, excluding 2000 itself."
   ]
  },
  {
   "cell_type": "code",
   "execution_count": 6,
   "metadata": {},
   "outputs": [
    {
     "name": "stdout",
     "output_type": "stream",
     "text": [
      "[ 7 93 40 ... 38 17 44]\n"
     ]
    },
    {
     "data": {
      "image/png": "[encoded data removed]",
      "text/plain": [
       "<Figure size 432x288 with 1 Axes>"
      ]
     },
     "metadata": {
      "needs_background": "light"
     },
     "output_type": "display_data"
    }
   ],
   "source": [
    "x =np.random.randint(0,100, size=2000)\n",
    "print(x)\n",
    "plt.hist(x)\n",
    "plt.show()"
   ]
  },
  {
   "cell_type": "markdown",
   "metadata": {},
   "source": [
    "[np.random.random_sample()](https://docs.scipy.org/doc/numpy-1.15.1/reference/generated/numpy.random.random_sample.html#numpy.random.random_sample)- This returns random floats in the half-open interval [0.0, 1.0]. results are drawn from the continuous uniform distribution over the stated interval."
   ]
  },
  {
   "cell_type": "code",
   "execution_count": 7,
   "metadata": {},
   "outputs": [
    {
     "name": "stdout",
     "output_type": "stream",
     "text": [
      "[0.81876546 0.73167201 0.59560865 0.55473715 0.13990659 0.54596095]\n"
     ]
    },
    {
     "data": {
      "text/plain": [
       "<function matplotlib.pyplot.show(*args, **kw)>"
      ]
     },
     "execution_count": 7,
     "metadata": {},
     "output_type": "execute_result"
    },
    {
     "data": {
      "image/png": "[encoded data removed]",
      "text/plain": [
       "<Figure size 432x288 with 1 Axes>"
      ]
     },
     "metadata": {
      "needs_background": "light"
     },
     "output_type": "display_data"
    }
   ],
   "source": [
    "# will return an array of six random floats between 0.0 and 1.0 \n",
    "x = np.random.random_sample((6,))\n",
    "print(x)\n",
    "plt.hist (x)\n",
    "plt.show"
   ]
  },
  {
   "cell_type": "markdown",
   "metadata": {},
   "source": [
    " [np.random.choice](https://docs.scipy.org/doc/numpy-1.15.1/reference/generated/numpy.random.choice.html#numpy.random.choice)- This returns random selections from an existing array,does not have to be numeric"
   ]
  },
  {
   "cell_type": "code",
   "execution_count": 8,
   "metadata": {},
   "outputs": [
    {
     "name": "stdout",
     "output_type": "stream",
     "text": [
      "['finally' 'finally' 'finally']\n"
     ]
    }
   ],
   "source": [
    "# below returns three random data items from array susanarray\n",
    "susanarray= ['getting','finally', 'it']\n",
    "x = np.random.choice(susanarray, 3)\n",
    "print (x)"
   ]
  },
  {
   "cell_type": "markdown",
   "metadata": {},
   "source": [
    "[np.random.bytes](https://docs.scipy.org/doc/numpy-1.15.1/reference/generated/numpy.random.bytes.html#numpy.random.bytes)- This will return random bytes for a chosen string length. "
   ]
  },
  {
   "cell_type": "code",
   "execution_count": 9,
   "metadata": {},
   "outputs": [
    {
     "name": "stdout",
     "output_type": "stream",
     "text": [
      "b'\\xe7E!\\xf4[r\\x0e\\xf6\\xaa\\rX\\xe5\\x98!\\xfe\\\\'\n"
     ]
    }
   ],
   "source": [
    "x = np.random.bytes(16)\n",
    "print(x)"
   ]
  },
  {
   "cell_type": "markdown",
   "metadata": {},
   "source": [
    "[np.random.shuffle(x)](https://docs.scipy.org/doc/numpy-1.15.1/reference/generated/numpy.random.shuffle.html#numpy.random.shuffle)- This shuffles the contents of a sequence. This shuffle is along the first axis of multi dimensional arrays.\n",
    "\n",
    "Below I will output a three dimensional array and then I will shuffle the array. You will see that the shuffle has changed the order of the 4 'blocks' but not the sequences or rows within. "
   ]
  },
  {
   "cell_type": "code",
   "execution_count": 10,
   "metadata": {},
   "outputs": [
    {
     "data": {
      "text/plain": [
       "array([[[ 0,  1,  2,  3],\n",
       "        [ 4,  5,  6,  7],\n",
       "        [ 8,  9, 10, 11],\n",
       "        [12, 13, 14, 15]],\n",
       "\n",
       "       [[16, 17, 18, 19],\n",
       "        [20, 21, 22, 23],\n",
       "        [24, 25, 26, 27],\n",
       "        [28, 29, 30, 31]],\n",
       "\n",
       "       [[32, 33, 34, 35],\n",
       "        [36, 37, 38, 39],\n",
       "        [40, 41, 42, 43],\n",
       "        [44, 45, 46, 47]],\n",
       "\n",
       "       [[48, 49, 50, 51],\n",
       "        [52, 53, 54, 55],\n",
       "        [56, 57, 58, 59],\n",
       "        [60, 61, 62, 63]]])"
      ]
     },
     "execution_count": 10,
     "metadata": {},
     "output_type": "execute_result"
    }
   ],
   "source": [
    "x = np.arange(64).reshape((4, 4, 4))\n",
    "x"
   ]
  },
  {
   "cell_type": "code",
   "execution_count": 11,
   "metadata": {},
   "outputs": [
    {
     "data": {
      "text/plain": [
       "array([[[16, 17, 18, 19],\n",
       "        [20, 21, 22, 23],\n",
       "        [24, 25, 26, 27],\n",
       "        [28, 29, 30, 31]],\n",
       "\n",
       "       [[48, 49, 50, 51],\n",
       "        [52, 53, 54, 55],\n",
       "        [56, 57, 58, 59],\n",
       "        [60, 61, 62, 63]],\n",
       "\n",
       "       [[ 0,  1,  2,  3],\n",
       "        [ 4,  5,  6,  7],\n",
       "        [ 8,  9, 10, 11],\n",
       "        [12, 13, 14, 15]],\n",
       "\n",
       "       [[32, 33, 34, 35],\n",
       "        [36, 37, 38, 39],\n",
       "        [40, 41, 42, 43],\n",
       "        [44, 45, 46, 47]]])"
      ]
     },
     "execution_count": 11,
     "metadata": {},
     "output_type": "execute_result"
    }
   ],
   "source": [
    "np.random.shuffle(x)\n",
    "x"
   ]
  },
  {
   "cell_type": "markdown",
   "metadata": {},
   "source": [
    "[np.random.permutation](https://docs.scipy.org/doc/numpy-1.15.1/reference/generated/numpy.random.shuffle.html#numpy.random.shuffle)- this randomly permutes a sequence, or returns a permuted copy of an array (shuffle shuffles the existing array). \n",
    "See examples below. "
   ]
  },
  {
   "cell_type": "code",
   "execution_count": 12,
   "metadata": {},
   "outputs": [
    {
     "data": {
      "text/plain": [
       "array([4, 8, 5, 1, 3, 7, 6, 0, 2, 9])"
      ]
     },
     "execution_count": 12,
     "metadata": {},
     "output_type": "execute_result"
    }
   ],
   "source": [
    "# returns numbers 0-9 randomly permuted\n",
    "np.random.permutation(10)"
   ]
  },
  {
   "cell_type": "code",
   "execution_count": 13,
   "metadata": {},
   "outputs": [
    {
     "data": {
      "text/plain": [
       "array([[0, 1, 2],\n",
       "       [3, 4, 5],\n",
       "       [6, 7, 8]])"
      ]
     },
     "execution_count": 13,
     "metadata": {},
     "output_type": "execute_result"
    }
   ],
   "source": [
    "# creation of a two dimensional array 3x3\n",
    "x = np.arange(9).reshape((3, 3))\n",
    "x"
   ]
  },
  {
   "cell_type": "code",
   "execution_count": 14,
   "metadata": {},
   "outputs": [
    {
     "data": {
      "text/plain": [
       "array([[0, 1, 2],\n",
       "       [3, 4, 5],\n",
       "       [6, 7, 8]])"
      ]
     },
     "execution_count": 14,
     "metadata": {},
     "output_type": "execute_result"
    }
   ],
   "source": [
    "# returns a permuted copy of the array x.\n",
    "# Multi-dimensional arrays are only shuffled along the first axis\n",
    "np.random.permutation(x)"
   ]
  },
  {
   "cell_type": "markdown",
   "metadata": {},
   "source": [
    "## Section four - Distributions functions\n",
    "\n",
    "Explain the use and purpose of at least five distributions. "
   ]
  },
  {
   "cell_type": "markdown",
   "metadata": {},
   "source": [
    "### [Binomial distribution](https://docs.scipy.org/doc/numpy-1.15.1/reference/generated/numpy.random.binomial.html#numpy.random.binomial)"
   ]
  },
  {
   "cell_type": "markdown",
   "metadata": {},
   "source": [
    "Binomial distribution is an expansion of the [Bernoulli trial](https://en.wikipedia.org/wiki/Bernoulli_trial) and is used to predict outcomes in instances where there are a **finite** number of **independant** trials (n) with one of **two possible outcomes** (success or failure) where the **probality of success (p) is the same for each trial**. \n",
    "\n",
    "The Binomial Distribution is used when looking at large populations for the presence/absence of a characteristic where there can only be one of two outcomes. For example the probability of defective parts in production lines,  the probability of having a particular genetic combination that would predispose a condition etc. \n",
    "\n",
    "Below is an example of the output of a the binomial distribution for 500 events with a probability of success of 0.5 and 10000 repetitions of the trial, as expected it is centred around 250 (0.5*500)"
   ]
  },
  {
   "cell_type": "code",
   "execution_count": 15,
   "metadata": {},
   "outputs": [
    {
     "name": "stdout",
     "output_type": "stream",
     "text": [
      "[240 259 246 ... 245 256 269]\n"
     ]
    },
    {
     "data": {
      "image/png": "[encoded data removed]",
      "text/plain": [
       "<Figure size 432x288 with 1 Axes>"
      ]
     },
     "metadata": {
      "needs_background": "light"
     },
     "output_type": "display_data"
    }
   ],
   "source": [
    "# np.random.binomial will return numbers in the binomial probability distribution based \n",
    "# on a nmber of events(n), the probability of a successful outcome (p) and the number of repetitions of the event\n",
    "\n",
    "n, p = 500, 0.5  # events, probability \n",
    "x = np.random.binomial(n, p, 10000) # number of repetitions\n",
    "print(x)\n",
    "\n",
    "plt.hist(x,bins =300)\n",
    "plt.show()\n"
   ]
  },
  {
   "cell_type": "markdown",
   "metadata": {},
   "source": [
    "### [Poisson Distribution](https://docs.scipy.org/doc/numpy/reference/generated/numpy.random.poisson.html#numpy.random.poisson) "
   ]
  },
  {
   "cell_type": "markdown",
   "metadata": {},
   "source": [
    "The Poisson Distrubtion measures the probability of events happening over a specified interval based on known occurrances (average rate) of the events. An event occurring is unrelated to the liklihood of a further event happening within the interval.  \n",
    "\n",
    "It could be used to predict sales likely peak sales patterns, A & E patient arrivals, likely hits on websites. A day to day use that most of us would be familiar with would relate to hts on web pages, e.g. page requests per second to a website. Modeling this with a Poisson distribution could be very helpful for estimating peak load (and thus planning servers around this) given average load."
   ]
  },
  {
   "cell_type": "code",
   "execution_count": 16,
   "metadata": {},
   "outputs": [
    {
     "name": "stdout",
     "output_type": "stream",
     "text": [
      "[0 0 0 ... 1 0 0]\n"
     ]
    },
    {
     "data": {
      "text/plain": [
       "(array([6052.,    0., 3072.,    0.,    0.,  746.,    0.,  116.,    0.,\n",
       "          14.]),\n",
       " array([0. , 0.4, 0.8, 1.2, 1.6, 2. , 2.4, 2.8, 3.2, 3.6, 4. ]),\n",
       " <a list of 10 Patch objects>)"
      ]
     },
     "execution_count": 16,
     "metadata": {},
     "output_type": "execute_result"
    },
    {
     "data": {
      "image/png": "[encoded data removed]",
      "text/plain": [
       "<Figure size 432x288 with 1 Axes>"
      ]
     },
     "metadata": {
      "needs_background": "light"
     },
     "output_type": "display_data"
    }
   ],
   "source": [
    "# below creates an array of 10000 elements each taken from a poisson probability distribution\n",
    "# where the function has a mean value of 0.5 \n",
    "\n",
    "x = np.random.poisson(0.5, 10000)\n",
    "print(x)\n",
    "plt.hist(x)"
   ]
  },
  {
   "cell_type": "markdown",
   "metadata": {},
   "source": [
    "### [exponential distribution](https://docs.scipy.org/doc/numpy-1.15.1/reference/generated/numpy.random.exponential.html#numpy.random.exponential)"
   ]
  },
  {
   "cell_type": "markdown",
   "metadata": {},
   "source": [
    "Exponential distribution is the probability distribution that describes the time between events in a Poisson process. When looking at events occurring randomly in time the poisson distribution gives probabilities for the **number of events** whereas the exponential distribution gives the probabilities for the **times between** the events. \n",
    "\n",
    "Some examples of exponential distributions would be the half life of atoms in radioactive decay or the time between calls to a call centre. \n",
    "\n",
    "Below I will generate and plot an example from the distribution to demonstrate the exponential shape of the random distribution generated."
   ]
  },
  {
   "cell_type": "code",
   "execution_count": 17,
   "metadata": {},
   "outputs": [
    {
     "name": "stdout",
     "output_type": "stream",
     "text": [
      "[3.65411324 0.91527209 1.32307349 ... 0.35919094 9.04032871 0.22194658]\n"
     ]
    },
    {
     "data": {
      "image/png": "[encoded data removed]",
      "text/plain": [
       "<Figure size 432x288 with 1 Axes>"
      ]
     },
     "metadata": {
      "needs_background": "light"
     },
     "output_type": "display_data"
    }
   ],
   "source": [
    "# np.random.exponential will return valies in an exponential distribution\n",
    "# scale is the inverse of lambda, number of evenys per unit time\n",
    "\n",
    "x = np.random.exponential(scale=1, size=10000)\n",
    "print (x)\n",
    "plt.hist(x)\n",
    "plt.show()"
   ]
  },
  {
   "cell_type": "markdown",
   "metadata": {},
   "source": [
    "### [normal distrubution](https://docs.scipy.org/doc/numpy-1.15.1/reference/generated/numpy.random.normal.html#numpy.random.normal)"
   ]
  },
  {
   "cell_type": "markdown",
   "metadata": {},
   "source": [
    "The mean, median, and mode of a normal (Gaussian) distribution are equal. The area under the normal curve is equal to 1.0. Normal distributions are denser in the center and less dense in the tails. Normal distributions are defined by two parameters, the mean (μ) and the standard deviation (σ). \n",
    "\n",
    "In a normal distribution curve approximately 68% of the distribution will be within one standard deviation  of the mean, approximately 95% within two standard deviations and approximately 99.7% within three standard deviations.\n",
    "\n",
    "The normal distribution is seen in many data sets, a few are blood pressure measurements, height of people, production line components. \n",
    "\n",
    "However the most infamous example of the normal distribution is it's prevalence for any [Irish Leaving Certificate](https://en.wikipedia.org/wiki/Leaving_Certificate_(Ireland)) student. The fear of being a victim of the bell curve is the stuff of many a nightmare!! And indeed probably many an excuse. Funnily enough, no teenager seems to consider that they may have been pushed in the upward direction as a result of normal distrubtion! When researching I came across a funny article on the topic of sadistic grading [2] which is worth a look. \n",
    "\n",
    "Below I will generate and plot an example from the distribution to demonstrate the bell shape of the distribution. "
   ]
  },
  {
   "cell_type": "code",
   "execution_count": 18,
   "metadata": {},
   "outputs": [
    {
     "data": {
      "image/png": "[encoded data removed]",
      "text/plain": [
       "<Figure size 432x288 with 1 Axes>"
      ]
     },
     "metadata": {
      "needs_background": "light"
     },
     "output_type": "display_data"
    }
   ],
   "source": [
    "# plot from the random normal distribution where mean = 50 and SD = 5\n",
    "# 50000 numbers\n",
    "mu, sigma = 50, 5 # mean and standard deviation\n",
    "x = np.random.normal(mu, sigma, 50000)\n",
    "plt.hist(x)\n",
    "start, end = (25, 75)\n",
    "plt.xticks(np.arange(start, end, 5))\n",
    "plt.show()"
   ]
  },
  {
   "cell_type": "markdown",
   "metadata": {},
   "source": [
    "### [Standard t distribution](https://docs.scipy.org/doc/numpy-1.15.1/reference/generated/numpy.random.standard_t.html#numpy.random.standard_t)"
   ]
  },
  {
   "cell_type": "markdown",
   "metadata": {},
   "source": [
    "The standard Student’s t distribution is related to the normal (Gaussian) distribution. It is a probability distribution which was developed by William Gosset in 1908 while he worked for Guinness Breweries. \n",
    "<img src=\"pint.jpg\" alt=\"Drawing\" style=\"width: 200px;\"/>\n",
    "\n",
    "He published his work as 'student', hence the name, while researching I came across a really interesting online article[3] which is worth a read!\n",
    "It is useful where the sample size is small and/or the variance is unknown. The t distribution allows statistical analysis on data sets that can't be analysed using the normal distribution. \n",
    "\n",
    "x = np.random.standard_t(df, size=None) will return samples from a standard Student’s t distribution. (df is degrees of freedom being number of independant samples -1)\n",
    "in shape it is similar to the normal bell curve but with thicker tails (so more values are situated away from the mean value, the higher the population the closer to the normal distribution it appears)\n",
    "\n",
    "T tests can be either single or paired, **single** where you are comparing two independant sets of single measurements - for example comparing test results for male/female candidates to see whether a particular condition had a marked effect on one group, **paired** where you are measuring twice on the same person /thing - for example before and after measurements of cholesterol levels to measure effectiveness of changed diet over a six month period. \n",
    "Another practical example would be the comparision of drug responses versus a control (placebo taking)group to determine whether or not the results obtained would stand up in a larger population. "
   ]
  },
  {
   "cell_type": "code",
   "execution_count": 19,
   "metadata": {},
   "outputs": [
    {
     "name": "stdout",
     "output_type": "stream",
     "text": [
      "[-3.88287061e-01  1.24879328e-01 -4.39848284e-01  3.20870817e-01\n",
      " -7.54553428e-04 -1.99026642e+00  1.52974775e+00  4.68892540e-01\n",
      "  1.19584613e+00  1.04746956e+00 -5.85474887e-01  6.78038862e-01\n",
      " -1.80938702e-01  1.58233612e-01  9.21154964e-01 -3.88242515e-01\n",
      "  7.29610653e-01  7.85208951e-01  6.33270796e-01  3.24205438e-01\n",
      "  3.71737764e-01  5.29828932e-02  8.15246852e-01  1.29017319e+00\n",
      " -3.57753908e-01 -3.56168073e+00 -1.13688585e+00 -7.11158405e-01\n",
      "  2.42463553e+00  7.36071150e-01  1.99586991e+00  1.77163457e+00\n",
      "  9.32433598e-01 -1.14792076e+00  1.30918726e+00  9.19649646e-01\n",
      " -3.16289367e-01  2.37583937e+00  6.13233061e-01  1.17948803e+00\n",
      "  6.87354473e-01  1.50018275e-01  3.11657655e-01  5.89160645e-01\n",
      "  8.37165915e-01  2.09702278e+00  4.78732505e-01 -1.03644161e+00\n",
      "  1.36270187e+00 -1.79137146e+00 -1.18166867e-01  2.37062320e-01\n",
      " -9.46521177e-01  2.17906267e-01 -1.33236729e+00 -1.31932406e+00\n",
      " -2.62431520e-01 -5.71058778e-01 -3.19448500e+00  1.53158699e+00\n",
      "  4.52936225e-01  1.37757116e-01  7.89543931e-01  3.30827759e-01\n",
      " -6.55878219e-01  1.32787416e+00 -1.22612068e-01  1.49887476e+00\n",
      "  1.53903069e+00 -1.49237543e-01 -2.62318161e-01 -4.17666616e-01\n",
      "  6.42210526e-01 -9.01931211e-01  1.63072844e-01 -6.68411764e-02\n",
      " -8.34520465e-01  5.04936616e-01  1.00631830e+00 -2.24869674e-01\n",
      " -6.24771922e-03 -1.90578849e+00  3.59314121e+00 -2.84242725e+00\n",
      "  1.75344994e+00  1.96419993e+00 -6.82175452e-01 -2.18365387e+00\n",
      "  3.37653851e+00 -7.15057987e-01]\n"
     ]
    },
    {
     "data": {
      "image/png": "[encoded data removed]",
      "text/plain": [
       "<Figure size 432x288 with 1 Axes>"
      ]
     },
     "metadata": {
      "needs_background": "light"
     },
     "output_type": "display_data"
    }
   ],
   "source": [
    "# \n",
    "x = np.random.standard_t(5, size=90)\n",
    "print (x)\n",
    "plt.hist(x)\n",
    "plt.show ()"
   ]
  },
  {
   "cell_type": "markdown",
   "metadata": {},
   "source": [
    "## Section Five - Explain the use of seeds in generating pseudorandom numbers. "
   ]
  },
  {
   "cell_type": "markdown",
   "metadata": {},
   "source": [
    "\n",
    "A [seed](https://docs.scipy.org/doc/numpy-1.15.1/reference/generated/numpy.random.seed.html#numpy.random.seed)  is a number used as the starting point in a pseudorandom number generator. Where the seed is specified (set) the algorithms that prduce the 'random' numbers will produce the same nunbers each time it is run with that seed. The algorithm used by numpy.randpm is the [Mersenne Twister](https://en.wikipedia.org/wiki/Mersenne_Twister).\n",
    "\n",
    "This ability to set the seed and thus return the same numbers has uses when testing/debugging code as 'random' numbers can also be reproduced later, if the starting point in the sequence is known. Where the seed is not set the algorithm will use some kind of default seed (e.g. using the system clock)\n",
    "\n",
    "In the minecraft game, for example, there is an app that allows users select the same seed so they end up in the same world. another use of seeds is for two factor authentication. "
   ]
  },
  {
   "cell_type": "code",
   "execution_count": 20,
   "metadata": {},
   "outputs": [
    {
     "name": "stdout",
     "output_type": "stream",
     "text": [
      "[0.22350127 0.11351159 0.70871177 0.64537915 0.93669127 0.86587937\n",
      " 0.14023649 0.85328671 0.79363275 0.63190573]\n",
      "[0.78011157 0.61720989 0.44622055 0.29517456 0.091752   0.00590805\n",
      " 0.40024422 0.38002383 0.26636767 0.23869415]\n"
     ]
    }
   ],
   "source": [
    "# below will demonstrate that where the seed is not set the random numbers change\n",
    "# each timr they are called\n",
    "\n",
    "x = np.random.rand(10)\n",
    "print(x)\n",
    "x = np.random.rand(10)\n",
    "print(x)"
   ]
  },
  {
   "cell_type": "code",
   "execution_count": 21,
   "metadata": {},
   "outputs": [
    {
     "name": "stdout",
     "output_type": "stream",
     "text": [
      "[0.22199317 0.87073231 0.20671916 0.91861091 0.48841119 0.61174386\n",
      " 0.76590786 0.51841799 0.2968005  0.18772123]\n",
      "[0.22199317 0.87073231 0.20671916 0.91861091 0.48841119 0.61174386\n",
      " 0.76590786 0.51841799 0.2968005  0.18772123]\n"
     ]
    }
   ],
   "source": [
    "# when the seed is set the same numbers are returned \n",
    "\n",
    "np.random.seed(5)\n",
    "x =np.random.rand(10)\n",
    "print(x)\n",
    "np.random.seed(5)\n",
    "np.random.rand(10)\n",
    "print(x)"
   ]
  },
  {
   "cell_type": "markdown",
   "metadata": {},
   "source": [
    "## Section six - references and conclusion\n",
    "\n",
    "### references specific\n",
    "[1] https://docs.scipy.org/doc/numpy-1.15.1/reference/routines.random.html#simple-random-data\n",
    "\n",
    "[2] https://www.sophia.org/tutorials/practical-applications-of-the-bell-shaped-curve\n",
    "\n",
    "[3] https://medium.freecodecamp.org/the-t-distribution-a-key-statistical-concept-discovered-by-a-beer-brewery-dbfdc693184\n",
    "\n",
    "\n",
    "\n",
    "### references general\n",
    "https://stackoverflow.com/\n",
    "\n",
    "https://realpython.com/python-random/\n",
    "\n",
    "https://revisionmaths.com/advanced-level-maths-revision/advanced-level-level-statistics\n",
    "\n",
    "http://www.amsi.org.au/ESA_Senior_Years/seniors_years.html\n",
    "\n",
    "https://stattrek.com/\n",
    "\n",
    "https://www.statisticshowto.datasciencecentral.com/\n",
    "\n",
    "[Active Maths 4, Leaving Certificate Higher level](https://www.folensonline.ie/programmes/active-maths-4/)\n",
    "\n",
    "https://en.wikipedia.org/wiki/Random_number_generation\n",
    "\n",
    "\n",
    "### conclusion\n",
    "\n",
    "On the face of it this assignment seemed straightforward. The reality was far from it! I soon realised that to fully understand the numpy.random package I had to face the demons and revisit maths and stats not looked at since my undergrad days over thirty years ago! It was therefore a lot more than an exploration of a python package and as much time was spent looking at leaving cert maths books and maths tutorial sites as looking at the uses of random data in modern day computing.It is weird to revisit, in particular t distributions which were a huge part of my UG final project but had almost been erased from my memory in the intervening years!\n",
    "I hope that I have managed to impart some of my newly awakened knowledge in this notebook and that it is not itself an exercise in randomness!!\n",
    "\n",
    "Another huge challenge was to get set up and ready to go, anaconda, github, cmder, jupyter notebooks, vs code, all recent skills and some new in the past few months. It has been a huge learning curve but an interesting one. \n",
    "\n",
    "Numpy.random, I would conclude, is a powerful and useful package and will,I imagine, be something I shall use in the future.\n"
   ]
  },
  {
   "cell_type": "markdown",
   "metadata": {},
   "source": [
    "## END"
   ]
  }
 ],
 "metadata": {
  "kernelspec": {
   "display_name": "Python 3",
   "language": "python",
   "name": "python3"
  },
  "language_info": {
   "codemirror_mode": {
    "name": "ipython",
    "version": 3
   },
   "file_extension": ".py",
   "mimetype": "text/x-python",
   "name": "python",
   "nbconvert_exporter": "python",
   "pygments_lexer": "ipython3",
   "version": "3.7.0"
  }
 },
 "nbformat": 4,
 "nbformat_minor": 2
}
